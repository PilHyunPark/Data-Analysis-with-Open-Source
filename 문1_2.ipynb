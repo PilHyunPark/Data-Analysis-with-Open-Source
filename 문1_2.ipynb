{
  "nbformat": 4,
  "nbformat_minor": 0,
  "metadata": {
    "colab": {
      "provenance": [],
      "include_colab_link": true
    },
    "kernelspec": {
      "name": "python3",
      "display_name": "Python 3"
    },
    "language_info": {
      "name": "python"
    }
  },
  "cells": [
    {
      "cell_type": "markdown",
      "metadata": {
        "id": "view-in-github",
        "colab_type": "text"
      },
      "source": [
        "<a href=\"https://colab.research.google.com/github/PilHyunPark/Data-Analysis-with-Open-Source/blob/main/%EB%AC%B81_2.ipynb\" target=\"_parent\"><img src=\"https://colab.research.google.com/assets/colab-badge.svg\" alt=\"Open In Colab\"/></a>"
      ]
    },
    {
      "cell_type": "code",
      "source": [
        "import requests\n",
        "import pandas as pd\n",
        "\n",
        "def GetEnergyUseAmount(searchDate):\n",
        "    api_key = '744342496f68797538364376797549'\n",
        "    url = 'http://openapi.seoul.go.kr:8088/' + api_key + '/json/energyUseDataSummaryInfo/1/5/' + serchdDate\n",
        "\n",
        "    response = requests.get(url)\n",
        "    return response.json();"
      ],
      "metadata": {
        "id": "BLKSn30Afpnq"
      },
      "execution_count": 11,
      "outputs": []
    },
    {
      "cell_type": "code",
      "source": [
        "for year in range(2015, 2025):\n",
        "    for month in range(1,13) :\n",
        "        serchdDate = str(year) + '/' + str(month).zfill(2)\n",
        "        data = GetEnergyUseAmount(serchdDate)\n",
        "        df = pd.DataFrame(data['energyUseDataSummaryInfo']['row'])\n",
        "\n",
        "        for idx in range(len(df)):\n",
        "            dfRow = df.iloc[idx]\n",
        "            mmType = str(dfRow['MM_TYPE'])  #유형\n",
        "            if mmType == \"개인\":\n",
        "                print(serchdDate)\n",
        "                print('eus = ' + str(dfRow['EUS']))  #현년 전기\n",
        "                print('gus = ' + str(dfRow['GUS']))  #현년 가스\n",
        "                print('wus = ' + str(dfRow['WUS']))  #현년 수도\n",
        "                print('hus = ' + str(dfRow['HUS']))  #현년 난방\n",
        "            else:\n",
        "                continue"
      ],
      "metadata": {
        "colab": {
          "base_uri": "https://localhost:8080/"
        },
        "id": "rteMDv7PI59X",
        "outputId": "19e67a7f-b1b5-492d-f2dc-e873ed514b28"
      },
      "execution_count": 93,
      "outputs": [
        {
          "output_type": "stream",
          "name": "stdout",
          "text": [
            "2015/01\n",
            "eus = 193784708\n",
            "gus = 59133720\n",
            "wus = 12819757.886\n",
            "hus = 22740838.937\n",
            "2015/02\n",
            "eus = 189974230\n",
            "gus = 56487358\n",
            "wus = 12656888.218\n",
            "hus = 18793320.213\n",
            "2015/05\n",
            "eus = 177289769\n",
            "gus = 22060892\n",
            "wus = 13086734.214\n",
            "hus = 1320895.801\n",
            "2015/06\n",
            "eus = 186073153\n",
            "gus = 12677645\n",
            "wus = 14241651.402\n",
            "hus = 294312.634\n",
            "2015/07\n",
            "eus = 165114568\n",
            "gus = 8893640\n",
            "wus = 12083879.038\n",
            "hus = 702863.645\n",
            "2015/08\n",
            "eus = 242000479\n",
            "gus = 7619018\n",
            "wus = 15164553.742\n",
            "hus = 460288.965\n",
            "2015/10\n",
            "eus = 186473958\n",
            "gus = 8924018\n",
            "wus = 14711828.766\n",
            "hus = 3167520.127\n",
            "2015/12\n",
            "eus = 203388142\n",
            "gus = 40095231\n",
            "wus = 13904162.958\n",
            "hus = 21102616.717\n"
          ]
        }
      ]
    },
    {
      "cell_type": "code",
      "source": [
        "for year in range(2015, 2025):\n",
        "    for month in range(1,13) :\n",
        "        serchdDate = str(year) + '/' + str(month).zfill(2)\n",
        "        data = GetEnergyUseAmount(serchdDate)\n",
        "        df = pd.DataFrame(data)\n",
        "        print(df)"
      ],
      "metadata": {
        "collapsed": true,
        "colab": {
          "base_uri": "https://localhost:8080/"
        },
        "id": "W1dBMQ8tTYRW",
        "outputId": "98ec0502-0bde-4c31-bba2-2f54d1a9aa12"
      },
      "execution_count": 94,
      "outputs": [
        {
          "output_type": "stream",
          "name": "stdout",
          "text": [
            "                                           energyUseDataSummaryInfo\n",
            "list_total_count                                                  7\n",
            "RESULT                {'CODE': 'INFO-000', 'MESSAGE': '정상 처리되었습니다'}\n",
            "row               [{'YEAR': '2015', 'MON': '01', 'MM_TYPE': '개인'...\n",
            "                                           energyUseDataSummaryInfo\n",
            "list_total_count                                                  7\n",
            "RESULT                {'CODE': 'INFO-000', 'MESSAGE': '정상 처리되었습니다'}\n",
            "row               [{'YEAR': '2015', 'MON': '02', 'MM_TYPE': '개인'...\n",
            "                                           energyUseDataSummaryInfo\n",
            "list_total_count                                                  7\n",
            "RESULT                {'CODE': 'INFO-000', 'MESSAGE': '정상 처리되었습니다'}\n",
            "row               [{'YEAR': '2015', 'MON': '03', 'MM_TYPE': '학교'...\n",
            "                                           energyUseDataSummaryInfo\n",
            "list_total_count                                                  7\n",
            "RESULT                {'CODE': 'INFO-000', 'MESSAGE': '정상 처리되었습니다'}\n",
            "row               [{'YEAR': '2015', 'MON': '04', 'MM_TYPE': '학교'...\n",
            "                                           energyUseDataSummaryInfo\n",
            "list_total_count                                                  7\n",
            "RESULT                {'CODE': 'INFO-000', 'MESSAGE': '정상 처리되었습니다'}\n",
            "row               [{'YEAR': '2015', 'MON': '05', 'MM_TYPE': '개인'...\n",
            "                                           energyUseDataSummaryInfo\n",
            "list_total_count                                                  7\n",
            "RESULT                {'CODE': 'INFO-000', 'MESSAGE': '정상 처리되었습니다'}\n",
            "row               [{'YEAR': '2015', 'MON': '06', 'MM_TYPE': '학교'...\n",
            "                                           energyUseDataSummaryInfo\n",
            "list_total_count                                                  7\n",
            "RESULT                {'CODE': 'INFO-000', 'MESSAGE': '정상 처리되었습니다'}\n",
            "row               [{'YEAR': '2015', 'MON': '07', 'MM_TYPE': '기업'...\n",
            "                                           energyUseDataSummaryInfo\n",
            "list_total_count                                                  7\n",
            "RESULT                {'CODE': 'INFO-000', 'MESSAGE': '정상 처리되었습니다'}\n",
            "row               [{'YEAR': '2015', 'MON': '08', 'MM_TYPE': '개인'...\n",
            "                                           energyUseDataSummaryInfo\n",
            "list_total_count                                                  7\n",
            "RESULT                {'CODE': 'INFO-000', 'MESSAGE': '정상 처리되었습니다'}\n",
            "row               [{'YEAR': '2015', 'MON': '09', 'MM_TYPE': '학교'...\n",
            "                                           energyUseDataSummaryInfo\n",
            "list_total_count                                                  7\n",
            "RESULT                {'CODE': 'INFO-000', 'MESSAGE': '정상 처리되었습니다'}\n",
            "row               [{'YEAR': '2015', 'MON': '10', 'MM_TYPE': '개인'...\n",
            "                                           energyUseDataSummaryInfo\n",
            "list_total_count                                                  7\n",
            "RESULT                {'CODE': 'INFO-000', 'MESSAGE': '정상 처리되었습니다'}\n",
            "row               [{'YEAR': '2015', 'MON': '11', 'MM_TYPE': '공공기...\n",
            "                                           energyUseDataSummaryInfo\n",
            "list_total_count                                                  7\n",
            "RESULT                {'CODE': 'INFO-000', 'MESSAGE': '정상 처리되었습니다'}\n",
            "row               [{'YEAR': '2015', 'MON': '12', 'MM_TYPE': '개인'...\n"
          ]
        }
      ]
    },
    {
      "cell_type": "code",
      "source": [
        "for year in range(2015, 2016):\n",
        "    for month in range(1,13) :\n",
        "        serchdDate = str(year) + '/' + str(month).zfill(2)\n",
        "        year = serchdDate[0: 4]\n",
        "        month = serchdDate[4: 6]\n",
        "        season = ''\n",
        "\n",
        "        list1 = ['03','04','05']\n",
        "        list2 = ['06','07','08']\n",
        "        list3 = ['09','10','11']\n",
        "        list4 = ['12','01','02']\n",
        "\n",
        "        if month in list1:\n",
        "            season = '봄'\n",
        "        elif month in list2:\n",
        "            season = '여름'\n",
        "        elif month in list3:\n",
        "            season = '가을'\n",
        "        elif month in list4:\n",
        "            season = '겨울'\n",
        "\n",
        "        data = GetEnergyUseAmount(serchdDate)\n",
        "        df = pd.DataFrame(data['energyUseDataSummaryInfo']['row'])\n",
        "        # print(df)\n",
        "        print(df.loc[df['MM_TYPE'] == '개인' , ['YEAR','MON','MM_TYPE', 'EUS','GUS','WUS','HUS']])\n",
        ""
      ],
      "metadata": {
        "colab": {
          "base_uri": "https://localhost:8080/"
        },
        "collapsed": true,
        "id": "MmP5NRrRVz8u",
        "outputId": "db2bd440-41d9-48c7-f560-9394b8ab7071"
      },
      "execution_count": 157,
      "outputs": [
        {
          "output_type": "stream",
          "name": "stdout",
          "text": [
            "   YEAR MON MM_TYPE        EUS       GUS           WUS           HUS\n",
            "0  2015  01      개인  193784708  59133720  12819757.886  22740838.937\n",
            "   YEAR MON MM_TYPE        EUS       GUS           WUS           HUS\n",
            "0  2015  02      개인  189974230  56487358  12656888.218  18793320.213\n",
            "Empty DataFrame\n",
            "Columns: [YEAR, MON, MM_TYPE, EUS, GUS, WUS, HUS]\n",
            "Index: []\n",
            "Empty DataFrame\n",
            "Columns: [YEAR, MON, MM_TYPE, EUS, GUS, WUS, HUS]\n",
            "Index: []\n",
            "   YEAR MON MM_TYPE        EUS       GUS           WUS          HUS\n",
            "0  2015  05      개인  177289769  22060892  13086734.214  1320895.801\n",
            "   YEAR MON MM_TYPE        EUS       GUS           WUS         HUS\n",
            "2  2015  06      개인  186073153  12677645  14241651.402  294312.634\n",
            "   YEAR MON MM_TYPE        EUS      GUS           WUS         HUS\n",
            "4  2015  07      개인  165114568  8893640  12083879.038  702863.645\n",
            "   YEAR MON MM_TYPE        EUS      GUS           WUS         HUS\n",
            "0  2015  08      개인  242000479  7619018  15164553.742  460288.965\n",
            "Empty DataFrame\n",
            "Columns: [YEAR, MON, MM_TYPE, EUS, GUS, WUS, HUS]\n",
            "Index: []\n",
            "   YEAR MON MM_TYPE        EUS      GUS           WUS          HUS\n",
            "0  2015  10      개인  186473958  8924018  14711828.766  3167520.127\n",
            "Empty DataFrame\n",
            "Columns: [YEAR, MON, MM_TYPE, EUS, GUS, WUS, HUS]\n",
            "Index: []\n",
            "   YEAR MON MM_TYPE        EUS       GUS           WUS           HUS\n",
            "0  2015  12      개인  203388142  40095231  13904162.958  21102616.717\n"
          ]
        }
      ]
    },
    {
      "cell_type": "code",
      "source": [],
      "metadata": {
        "id": "QTTJvR_iV1IW"
      },
      "execution_count": null,
      "outputs": []
    },
    {
      "cell_type": "code",
      "source": [],
      "metadata": {
        "id": "0frehjfVV19e"
      },
      "execution_count": null,
      "outputs": []
    },
    {
      "cell_type": "code",
      "source": [
        "import requests\n",
        "import pandas as pd\n",
        "## 2015년 1월 ~ 2024년 12월 전국 평균 에너지 사용금액 데이터 수집\n",
        "\n",
        "def GetEnergyUseAmount(searchDate):\n",
        "    api_key = '94d36f3144e4055ff21d7412ddbab8617380adce25c0fc3d29733a1e944b1046'\n",
        "    url = 'http://apis.data.go.kr/1613000/ApHusEnergyUseInfoOfferServiceV2/getWntyAvrgEnergyUseAmountInfoSearchV2?serviceKey=' \\\n",
        "            + api_key + '&searchDate=' + searchDate\n",
        "\n",
        "    response = requests.get(url)\n",
        "    return response.json();\n",
        "\n",
        "for year in range(2015, 2025):\n",
        "    for month in range(1,13) :\n",
        "        serchdDate = str(year) + str(month).zfill(2)\n",
        "        data = GetEnergyUseAmount(serchdDate)\n",
        "        df = pd.DataFrame(data['response']['body'])\n",
        "        print(serchdDate)\n",
        "        print(df)"
      ],
      "metadata": {
        "id": "2MNcpP3cn6_-",
        "colab": {
          "base_uri": "https://localhost:8080/",
          "height": 779
        },
        "outputId": "d7ecefdc-da53-46f8-94e9-1d380c534a26"
      },
      "execution_count": null,
      "outputs": [
        {
          "output_type": "stream",
          "name": "stdout",
          "text": [
            "201501\n",
            "           item\n",
            "heat        532\n",
            "waterHot    132\n",
            "gas           5\n",
            "elect       674\n",
            "waterCool   176\n",
            "201502\n",
            "           item\n",
            "heat        435\n",
            "waterHot    126\n",
            "gas           5\n",
            "elect       639\n",
            "waterCool   174\n",
            "201503\n",
            "           item\n",
            "heat        329\n",
            "waterHot    123\n",
            "gas           4\n",
            "elect       532\n",
            "waterCool   173\n"
          ]
        },
        {
          "output_type": "error",
          "ename": "KeyboardInterrupt",
          "evalue": "",
          "traceback": [
            "\u001b[0;31m---------------------------------------------------------------------------\u001b[0m",
            "\u001b[0;31mKeyboardInterrupt\u001b[0m                         Traceback (most recent call last)",
            "\u001b[0;32m/tmp/ipython-input-2912211582.py\u001b[0m in \u001b[0;36m<cell line: 0>\u001b[0;34m()\u001b[0m\n\u001b[1;32m     14\u001b[0m     \u001b[0;32mfor\u001b[0m \u001b[0mmonth\u001b[0m \u001b[0;32min\u001b[0m \u001b[0mrange\u001b[0m\u001b[0;34m(\u001b[0m\u001b[0;36m1\u001b[0m\u001b[0;34m,\u001b[0m\u001b[0;36m13\u001b[0m\u001b[0;34m)\u001b[0m \u001b[0;34m:\u001b[0m\u001b[0;34m\u001b[0m\u001b[0;34m\u001b[0m\u001b[0m\n\u001b[1;32m     15\u001b[0m         \u001b[0mserchdDate\u001b[0m \u001b[0;34m=\u001b[0m \u001b[0mstr\u001b[0m\u001b[0;34m(\u001b[0m\u001b[0myear\u001b[0m\u001b[0;34m)\u001b[0m \u001b[0;34m+\u001b[0m \u001b[0mstr\u001b[0m\u001b[0;34m(\u001b[0m\u001b[0mmonth\u001b[0m\u001b[0;34m)\u001b[0m\u001b[0;34m.\u001b[0m\u001b[0mzfill\u001b[0m\u001b[0;34m(\u001b[0m\u001b[0;36m2\u001b[0m\u001b[0;34m)\u001b[0m\u001b[0;34m\u001b[0m\u001b[0;34m\u001b[0m\u001b[0m\n\u001b[0;32m---> 16\u001b[0;31m         \u001b[0mdata\u001b[0m \u001b[0;34m=\u001b[0m \u001b[0mGetEnergyUseAmount\u001b[0m\u001b[0;34m(\u001b[0m\u001b[0mserchdDate\u001b[0m\u001b[0;34m)\u001b[0m\u001b[0;34m\u001b[0m\u001b[0;34m\u001b[0m\u001b[0m\n\u001b[0m\u001b[1;32m     17\u001b[0m         \u001b[0mdf\u001b[0m \u001b[0;34m=\u001b[0m \u001b[0mpd\u001b[0m\u001b[0;34m.\u001b[0m\u001b[0mDataFrame\u001b[0m\u001b[0;34m(\u001b[0m\u001b[0mdata\u001b[0m\u001b[0;34m[\u001b[0m\u001b[0;34m'response'\u001b[0m\u001b[0;34m]\u001b[0m\u001b[0;34m[\u001b[0m\u001b[0;34m'body'\u001b[0m\u001b[0;34m]\u001b[0m\u001b[0;34m)\u001b[0m\u001b[0;34m\u001b[0m\u001b[0;34m\u001b[0m\u001b[0m\n\u001b[1;32m     18\u001b[0m         \u001b[0mprint\u001b[0m\u001b[0;34m(\u001b[0m\u001b[0mserchdDate\u001b[0m\u001b[0;34m)\u001b[0m\u001b[0;34m\u001b[0m\u001b[0;34m\u001b[0m\u001b[0m\n",
            "\u001b[0;32m/tmp/ipython-input-2912211582.py\u001b[0m in \u001b[0;36mGetEnergyUseAmount\u001b[0;34m(searchDate)\u001b[0m\n\u001b[1;32m      8\u001b[0m             \u001b[0;34m+\u001b[0m \u001b[0mapi_key\u001b[0m \u001b[0;34m+\u001b[0m \u001b[0;34m'&searchDate='\u001b[0m \u001b[0;34m+\u001b[0m \u001b[0msearchDate\u001b[0m\u001b[0;34m\u001b[0m\u001b[0;34m\u001b[0m\u001b[0m\n\u001b[1;32m      9\u001b[0m \u001b[0;34m\u001b[0m\u001b[0m\n\u001b[0;32m---> 10\u001b[0;31m     \u001b[0mresponse\u001b[0m \u001b[0;34m=\u001b[0m \u001b[0mrequests\u001b[0m\u001b[0;34m.\u001b[0m\u001b[0mget\u001b[0m\u001b[0;34m(\u001b[0m\u001b[0murl\u001b[0m\u001b[0;34m)\u001b[0m\u001b[0;34m\u001b[0m\u001b[0;34m\u001b[0m\u001b[0m\n\u001b[0m\u001b[1;32m     11\u001b[0m     \u001b[0;32mreturn\u001b[0m \u001b[0mresponse\u001b[0m\u001b[0;34m.\u001b[0m\u001b[0mjson\u001b[0m\u001b[0;34m(\u001b[0m\u001b[0;34m)\u001b[0m\u001b[0;34m;\u001b[0m\u001b[0;34m\u001b[0m\u001b[0;34m\u001b[0m\u001b[0m\n\u001b[1;32m     12\u001b[0m \u001b[0;34m\u001b[0m\u001b[0m\n",
            "\u001b[0;32m/usr/local/lib/python3.12/dist-packages/requests/api.py\u001b[0m in \u001b[0;36mget\u001b[0;34m(url, params, **kwargs)\u001b[0m\n\u001b[1;32m     71\u001b[0m     \"\"\"\n\u001b[1;32m     72\u001b[0m \u001b[0;34m\u001b[0m\u001b[0m\n\u001b[0;32m---> 73\u001b[0;31m     \u001b[0;32mreturn\u001b[0m \u001b[0mrequest\u001b[0m\u001b[0;34m(\u001b[0m\u001b[0;34m\"get\"\u001b[0m\u001b[0;34m,\u001b[0m \u001b[0murl\u001b[0m\u001b[0;34m,\u001b[0m \u001b[0mparams\u001b[0m\u001b[0;34m=\u001b[0m\u001b[0mparams\u001b[0m\u001b[0;34m,\u001b[0m \u001b[0;34m**\u001b[0m\u001b[0mkwargs\u001b[0m\u001b[0;34m)\u001b[0m\u001b[0;34m\u001b[0m\u001b[0;34m\u001b[0m\u001b[0m\n\u001b[0m\u001b[1;32m     74\u001b[0m \u001b[0;34m\u001b[0m\u001b[0m\n\u001b[1;32m     75\u001b[0m \u001b[0;34m\u001b[0m\u001b[0m\n",
            "\u001b[0;32m/usr/local/lib/python3.12/dist-packages/requests/api.py\u001b[0m in \u001b[0;36mrequest\u001b[0;34m(method, url, **kwargs)\u001b[0m\n\u001b[1;32m     57\u001b[0m     \u001b[0;31m# cases, and look like a memory leak in others.\u001b[0m\u001b[0;34m\u001b[0m\u001b[0;34m\u001b[0m\u001b[0m\n\u001b[1;32m     58\u001b[0m     \u001b[0;32mwith\u001b[0m \u001b[0msessions\u001b[0m\u001b[0;34m.\u001b[0m\u001b[0mSession\u001b[0m\u001b[0;34m(\u001b[0m\u001b[0;34m)\u001b[0m \u001b[0;32mas\u001b[0m \u001b[0msession\u001b[0m\u001b[0;34m:\u001b[0m\u001b[0;34m\u001b[0m\u001b[0;34m\u001b[0m\u001b[0m\n\u001b[0;32m---> 59\u001b[0;31m         \u001b[0;32mreturn\u001b[0m \u001b[0msession\u001b[0m\u001b[0;34m.\u001b[0m\u001b[0mrequest\u001b[0m\u001b[0;34m(\u001b[0m\u001b[0mmethod\u001b[0m\u001b[0;34m=\u001b[0m\u001b[0mmethod\u001b[0m\u001b[0;34m,\u001b[0m \u001b[0murl\u001b[0m\u001b[0;34m=\u001b[0m\u001b[0murl\u001b[0m\u001b[0;34m,\u001b[0m \u001b[0;34m**\u001b[0m\u001b[0mkwargs\u001b[0m\u001b[0;34m)\u001b[0m\u001b[0;34m\u001b[0m\u001b[0;34m\u001b[0m\u001b[0m\n\u001b[0m\u001b[1;32m     60\u001b[0m \u001b[0;34m\u001b[0m\u001b[0m\n\u001b[1;32m     61\u001b[0m \u001b[0;34m\u001b[0m\u001b[0m\n",
            "\u001b[0;32m/usr/local/lib/python3.12/dist-packages/requests/sessions.py\u001b[0m in \u001b[0;36mrequest\u001b[0;34m(self, method, url, params, data, headers, cookies, files, auth, timeout, allow_redirects, proxies, hooks, stream, verify, cert, json)\u001b[0m\n\u001b[1;32m    587\u001b[0m         }\n\u001b[1;32m    588\u001b[0m         \u001b[0msend_kwargs\u001b[0m\u001b[0;34m.\u001b[0m\u001b[0mupdate\u001b[0m\u001b[0;34m(\u001b[0m\u001b[0msettings\u001b[0m\u001b[0;34m)\u001b[0m\u001b[0;34m\u001b[0m\u001b[0;34m\u001b[0m\u001b[0m\n\u001b[0;32m--> 589\u001b[0;31m         \u001b[0mresp\u001b[0m \u001b[0;34m=\u001b[0m \u001b[0mself\u001b[0m\u001b[0;34m.\u001b[0m\u001b[0msend\u001b[0m\u001b[0;34m(\u001b[0m\u001b[0mprep\u001b[0m\u001b[0;34m,\u001b[0m \u001b[0;34m**\u001b[0m\u001b[0msend_kwargs\u001b[0m\u001b[0;34m)\u001b[0m\u001b[0;34m\u001b[0m\u001b[0;34m\u001b[0m\u001b[0m\n\u001b[0m\u001b[1;32m    590\u001b[0m \u001b[0;34m\u001b[0m\u001b[0m\n\u001b[1;32m    591\u001b[0m         \u001b[0;32mreturn\u001b[0m \u001b[0mresp\u001b[0m\u001b[0;34m\u001b[0m\u001b[0;34m\u001b[0m\u001b[0m\n",
            "\u001b[0;32m/usr/local/lib/python3.12/dist-packages/requests/sessions.py\u001b[0m in \u001b[0;36msend\u001b[0;34m(self, request, **kwargs)\u001b[0m\n\u001b[1;32m    701\u001b[0m \u001b[0;34m\u001b[0m\u001b[0m\n\u001b[1;32m    702\u001b[0m         \u001b[0;31m# Send the request\u001b[0m\u001b[0;34m\u001b[0m\u001b[0;34m\u001b[0m\u001b[0m\n\u001b[0;32m--> 703\u001b[0;31m         \u001b[0mr\u001b[0m \u001b[0;34m=\u001b[0m \u001b[0madapter\u001b[0m\u001b[0;34m.\u001b[0m\u001b[0msend\u001b[0m\u001b[0;34m(\u001b[0m\u001b[0mrequest\u001b[0m\u001b[0;34m,\u001b[0m \u001b[0;34m**\u001b[0m\u001b[0mkwargs\u001b[0m\u001b[0;34m)\u001b[0m\u001b[0;34m\u001b[0m\u001b[0;34m\u001b[0m\u001b[0m\n\u001b[0m\u001b[1;32m    704\u001b[0m \u001b[0;34m\u001b[0m\u001b[0m\n\u001b[1;32m    705\u001b[0m         \u001b[0;31m# Total elapsed time of the request (approximately)\u001b[0m\u001b[0;34m\u001b[0m\u001b[0;34m\u001b[0m\u001b[0m\n",
            "\u001b[0;32m/usr/local/lib/python3.12/dist-packages/requests/adapters.py\u001b[0m in \u001b[0;36msend\u001b[0;34m(self, request, stream, timeout, verify, cert, proxies)\u001b[0m\n\u001b[1;32m    665\u001b[0m \u001b[0;34m\u001b[0m\u001b[0m\n\u001b[1;32m    666\u001b[0m         \u001b[0;32mtry\u001b[0m\u001b[0;34m:\u001b[0m\u001b[0;34m\u001b[0m\u001b[0;34m\u001b[0m\u001b[0m\n\u001b[0;32m--> 667\u001b[0;31m             resp = conn.urlopen(\n\u001b[0m\u001b[1;32m    668\u001b[0m                 \u001b[0mmethod\u001b[0m\u001b[0;34m=\u001b[0m\u001b[0mrequest\u001b[0m\u001b[0;34m.\u001b[0m\u001b[0mmethod\u001b[0m\u001b[0;34m,\u001b[0m\u001b[0;34m\u001b[0m\u001b[0;34m\u001b[0m\u001b[0m\n\u001b[1;32m    669\u001b[0m                 \u001b[0murl\u001b[0m\u001b[0;34m=\u001b[0m\u001b[0murl\u001b[0m\u001b[0;34m,\u001b[0m\u001b[0;34m\u001b[0m\u001b[0;34m\u001b[0m\u001b[0m\n",
            "\u001b[0;32m/usr/local/lib/python3.12/dist-packages/urllib3/connectionpool.py\u001b[0m in \u001b[0;36murlopen\u001b[0;34m(self, method, url, body, headers, retries, redirect, assert_same_host, timeout, pool_timeout, release_conn, chunked, body_pos, preload_content, decode_content, **response_kw)\u001b[0m\n\u001b[1;32m    785\u001b[0m \u001b[0;34m\u001b[0m\u001b[0m\n\u001b[1;32m    786\u001b[0m             \u001b[0;31m# Make the request on the HTTPConnection object\u001b[0m\u001b[0;34m\u001b[0m\u001b[0;34m\u001b[0m\u001b[0m\n\u001b[0;32m--> 787\u001b[0;31m             response = self._make_request(\n\u001b[0m\u001b[1;32m    788\u001b[0m                 \u001b[0mconn\u001b[0m\u001b[0;34m,\u001b[0m\u001b[0;34m\u001b[0m\u001b[0;34m\u001b[0m\u001b[0m\n\u001b[1;32m    789\u001b[0m                 \u001b[0mmethod\u001b[0m\u001b[0;34m,\u001b[0m\u001b[0;34m\u001b[0m\u001b[0;34m\u001b[0m\u001b[0m\n",
            "\u001b[0;32m/usr/local/lib/python3.12/dist-packages/urllib3/connectionpool.py\u001b[0m in \u001b[0;36m_make_request\u001b[0;34m(self, conn, method, url, body, headers, retries, timeout, chunked, response_conn, preload_content, decode_content, enforce_content_length)\u001b[0m\n\u001b[1;32m    532\u001b[0m         \u001b[0;31m# Receive the response from the server\u001b[0m\u001b[0;34m\u001b[0m\u001b[0;34m\u001b[0m\u001b[0m\n\u001b[1;32m    533\u001b[0m         \u001b[0;32mtry\u001b[0m\u001b[0;34m:\u001b[0m\u001b[0;34m\u001b[0m\u001b[0;34m\u001b[0m\u001b[0m\n\u001b[0;32m--> 534\u001b[0;31m             \u001b[0mresponse\u001b[0m \u001b[0;34m=\u001b[0m \u001b[0mconn\u001b[0m\u001b[0;34m.\u001b[0m\u001b[0mgetresponse\u001b[0m\u001b[0;34m(\u001b[0m\u001b[0;34m)\u001b[0m\u001b[0;34m\u001b[0m\u001b[0;34m\u001b[0m\u001b[0m\n\u001b[0m\u001b[1;32m    535\u001b[0m         \u001b[0;32mexcept\u001b[0m \u001b[0;34m(\u001b[0m\u001b[0mBaseSSLError\u001b[0m\u001b[0;34m,\u001b[0m \u001b[0mOSError\u001b[0m\u001b[0;34m)\u001b[0m \u001b[0;32mas\u001b[0m \u001b[0me\u001b[0m\u001b[0;34m:\u001b[0m\u001b[0;34m\u001b[0m\u001b[0;34m\u001b[0m\u001b[0m\n\u001b[1;32m    536\u001b[0m             \u001b[0mself\u001b[0m\u001b[0;34m.\u001b[0m\u001b[0m_raise_timeout\u001b[0m\u001b[0;34m(\u001b[0m\u001b[0merr\u001b[0m\u001b[0;34m=\u001b[0m\u001b[0me\u001b[0m\u001b[0;34m,\u001b[0m \u001b[0murl\u001b[0m\u001b[0;34m=\u001b[0m\u001b[0murl\u001b[0m\u001b[0;34m,\u001b[0m \u001b[0mtimeout_value\u001b[0m\u001b[0;34m=\u001b[0m\u001b[0mread_timeout\u001b[0m\u001b[0;34m)\u001b[0m\u001b[0;34m\u001b[0m\u001b[0;34m\u001b[0m\u001b[0m\n",
            "\u001b[0;32m/usr/local/lib/python3.12/dist-packages/urllib3/connection.py\u001b[0m in \u001b[0;36mgetresponse\u001b[0;34m(self)\u001b[0m\n\u001b[1;32m    563\u001b[0m \u001b[0;34m\u001b[0m\u001b[0m\n\u001b[1;32m    564\u001b[0m         \u001b[0;31m# Get the response from http.client.HTTPConnection\u001b[0m\u001b[0;34m\u001b[0m\u001b[0;34m\u001b[0m\u001b[0m\n\u001b[0;32m--> 565\u001b[0;31m         \u001b[0mhttplib_response\u001b[0m \u001b[0;34m=\u001b[0m \u001b[0msuper\u001b[0m\u001b[0;34m(\u001b[0m\u001b[0;34m)\u001b[0m\u001b[0;34m.\u001b[0m\u001b[0mgetresponse\u001b[0m\u001b[0;34m(\u001b[0m\u001b[0;34m)\u001b[0m\u001b[0;34m\u001b[0m\u001b[0;34m\u001b[0m\u001b[0m\n\u001b[0m\u001b[1;32m    566\u001b[0m \u001b[0;34m\u001b[0m\u001b[0m\n\u001b[1;32m    567\u001b[0m         \u001b[0;32mtry\u001b[0m\u001b[0;34m:\u001b[0m\u001b[0;34m\u001b[0m\u001b[0;34m\u001b[0m\u001b[0m\n",
            "\u001b[0;32m/usr/lib/python3.12/http/client.py\u001b[0m in \u001b[0;36mgetresponse\u001b[0;34m(self)\u001b[0m\n\u001b[1;32m   1428\u001b[0m         \u001b[0;32mtry\u001b[0m\u001b[0;34m:\u001b[0m\u001b[0;34m\u001b[0m\u001b[0;34m\u001b[0m\u001b[0m\n\u001b[1;32m   1429\u001b[0m             \u001b[0;32mtry\u001b[0m\u001b[0;34m:\u001b[0m\u001b[0;34m\u001b[0m\u001b[0;34m\u001b[0m\u001b[0m\n\u001b[0;32m-> 1430\u001b[0;31m                 \u001b[0mresponse\u001b[0m\u001b[0;34m.\u001b[0m\u001b[0mbegin\u001b[0m\u001b[0;34m(\u001b[0m\u001b[0;34m)\u001b[0m\u001b[0;34m\u001b[0m\u001b[0;34m\u001b[0m\u001b[0m\n\u001b[0m\u001b[1;32m   1431\u001b[0m             \u001b[0;32mexcept\u001b[0m \u001b[0mConnectionError\u001b[0m\u001b[0;34m:\u001b[0m\u001b[0;34m\u001b[0m\u001b[0;34m\u001b[0m\u001b[0m\n\u001b[1;32m   1432\u001b[0m                 \u001b[0mself\u001b[0m\u001b[0;34m.\u001b[0m\u001b[0mclose\u001b[0m\u001b[0;34m(\u001b[0m\u001b[0;34m)\u001b[0m\u001b[0;34m\u001b[0m\u001b[0;34m\u001b[0m\u001b[0m\n",
            "\u001b[0;32m/usr/lib/python3.12/http/client.py\u001b[0m in \u001b[0;36mbegin\u001b[0;34m(self)\u001b[0m\n\u001b[1;32m    329\u001b[0m         \u001b[0;31m# read until we get a non-100 response\u001b[0m\u001b[0;34m\u001b[0m\u001b[0;34m\u001b[0m\u001b[0m\n\u001b[1;32m    330\u001b[0m         \u001b[0;32mwhile\u001b[0m \u001b[0;32mTrue\u001b[0m\u001b[0;34m:\u001b[0m\u001b[0;34m\u001b[0m\u001b[0;34m\u001b[0m\u001b[0m\n\u001b[0;32m--> 331\u001b[0;31m             \u001b[0mversion\u001b[0m\u001b[0;34m,\u001b[0m \u001b[0mstatus\u001b[0m\u001b[0;34m,\u001b[0m \u001b[0mreason\u001b[0m \u001b[0;34m=\u001b[0m \u001b[0mself\u001b[0m\u001b[0;34m.\u001b[0m\u001b[0m_read_status\u001b[0m\u001b[0;34m(\u001b[0m\u001b[0;34m)\u001b[0m\u001b[0;34m\u001b[0m\u001b[0;34m\u001b[0m\u001b[0m\n\u001b[0m\u001b[1;32m    332\u001b[0m             \u001b[0;32mif\u001b[0m \u001b[0mstatus\u001b[0m \u001b[0;34m!=\u001b[0m \u001b[0mCONTINUE\u001b[0m\u001b[0;34m:\u001b[0m\u001b[0;34m\u001b[0m\u001b[0;34m\u001b[0m\u001b[0m\n\u001b[1;32m    333\u001b[0m                 \u001b[0;32mbreak\u001b[0m\u001b[0;34m\u001b[0m\u001b[0;34m\u001b[0m\u001b[0m\n",
            "\u001b[0;32m/usr/lib/python3.12/http/client.py\u001b[0m in \u001b[0;36m_read_status\u001b[0;34m(self)\u001b[0m\n\u001b[1;32m    290\u001b[0m \u001b[0;34m\u001b[0m\u001b[0m\n\u001b[1;32m    291\u001b[0m     \u001b[0;32mdef\u001b[0m \u001b[0m_read_status\u001b[0m\u001b[0;34m(\u001b[0m\u001b[0mself\u001b[0m\u001b[0;34m)\u001b[0m\u001b[0;34m:\u001b[0m\u001b[0;34m\u001b[0m\u001b[0;34m\u001b[0m\u001b[0m\n\u001b[0;32m--> 292\u001b[0;31m         \u001b[0mline\u001b[0m \u001b[0;34m=\u001b[0m \u001b[0mstr\u001b[0m\u001b[0;34m(\u001b[0m\u001b[0mself\u001b[0m\u001b[0;34m.\u001b[0m\u001b[0mfp\u001b[0m\u001b[0;34m.\u001b[0m\u001b[0mreadline\u001b[0m\u001b[0;34m(\u001b[0m\u001b[0m_MAXLINE\u001b[0m \u001b[0;34m+\u001b[0m \u001b[0;36m1\u001b[0m\u001b[0;34m)\u001b[0m\u001b[0;34m,\u001b[0m \u001b[0;34m\"iso-8859-1\"\u001b[0m\u001b[0;34m)\u001b[0m\u001b[0;34m\u001b[0m\u001b[0;34m\u001b[0m\u001b[0m\n\u001b[0m\u001b[1;32m    293\u001b[0m         \u001b[0;32mif\u001b[0m \u001b[0mlen\u001b[0m\u001b[0;34m(\u001b[0m\u001b[0mline\u001b[0m\u001b[0;34m)\u001b[0m \u001b[0;34m>\u001b[0m \u001b[0m_MAXLINE\u001b[0m\u001b[0;34m:\u001b[0m\u001b[0;34m\u001b[0m\u001b[0;34m\u001b[0m\u001b[0m\n\u001b[1;32m    294\u001b[0m             \u001b[0;32mraise\u001b[0m \u001b[0mLineTooLong\u001b[0m\u001b[0;34m(\u001b[0m\u001b[0;34m\"status line\"\u001b[0m\u001b[0;34m)\u001b[0m\u001b[0;34m\u001b[0m\u001b[0;34m\u001b[0m\u001b[0m\n",
            "\u001b[0;32m/usr/lib/python3.12/socket.py\u001b[0m in \u001b[0;36mreadinto\u001b[0;34m(self, b)\u001b[0m\n\u001b[1;32m    718\u001b[0m         \u001b[0;32mwhile\u001b[0m \u001b[0;32mTrue\u001b[0m\u001b[0;34m:\u001b[0m\u001b[0;34m\u001b[0m\u001b[0;34m\u001b[0m\u001b[0m\n\u001b[1;32m    719\u001b[0m             \u001b[0;32mtry\u001b[0m\u001b[0;34m:\u001b[0m\u001b[0;34m\u001b[0m\u001b[0;34m\u001b[0m\u001b[0m\n\u001b[0;32m--> 720\u001b[0;31m                 \u001b[0;32mreturn\u001b[0m \u001b[0mself\u001b[0m\u001b[0;34m.\u001b[0m\u001b[0m_sock\u001b[0m\u001b[0;34m.\u001b[0m\u001b[0mrecv_into\u001b[0m\u001b[0;34m(\u001b[0m\u001b[0mb\u001b[0m\u001b[0;34m)\u001b[0m\u001b[0;34m\u001b[0m\u001b[0;34m\u001b[0m\u001b[0m\n\u001b[0m\u001b[1;32m    721\u001b[0m             \u001b[0;32mexcept\u001b[0m \u001b[0mtimeout\u001b[0m\u001b[0;34m:\u001b[0m\u001b[0;34m\u001b[0m\u001b[0;34m\u001b[0m\u001b[0m\n\u001b[1;32m    722\u001b[0m                 \u001b[0mself\u001b[0m\u001b[0;34m.\u001b[0m\u001b[0m_timeout_occurred\u001b[0m \u001b[0;34m=\u001b[0m \u001b[0;32mTrue\u001b[0m\u001b[0;34m\u001b[0m\u001b[0;34m\u001b[0m\u001b[0m\n",
            "\u001b[0;31mKeyboardInterrupt\u001b[0m: "
          ]
        }
      ]
    },
    {
      "cell_type": "code",
      "source": [
        "import pandas as pd\n",
        "\n",
        "for year in range(2015, 2025):\n",
        "    for month in range(1,13) :\n",
        "        serchdDate = str(year) + str(month).zfill(2)\n",
        "        year = serchdDate[0: 4]\n",
        "        month = serchdDate[4: 6]\n",
        "        season = ''\n",
        "\n",
        "        list1 = ['03','04','05']\n",
        "        list2 = ['06','07','08']\n",
        "        list3 = ['09','10','11']\n",
        "        list4 = ['12','01','02']\n",
        "\n",
        "        if month in list1:\n",
        "            season = '봄'\n",
        "        elif month in list2:\n",
        "            season = '여름'\n",
        "        elif month in list3:\n",
        "            season = '가을'\n",
        "        elif month in list4:\n",
        "            season = '겨울'\n",
        "\n",
        "        data = GetEnergyUseAmount(serchdDate)\n",
        "        df = pd.DataFrame(data['response']['body'])\n",
        "        df['year'] = year\n",
        "        df['season'] = season\n",
        "        print(df)\n"
      ],
      "metadata": {
        "id": "BaIndhZ8xSgH",
        "colab": {
          "base_uri": "https://localhost:8080/"
        },
        "outputId": "64532266-09b3-4bd5-bbff-883972bf8a31"
      },
      "execution_count": null,
      "outputs": [
        {
          "output_type": "stream",
          "name": "stdout",
          "text": [
            "           item  year season\n",
            "heat        532  2015     겨울\n",
            "waterHot    132  2015     겨울\n",
            "gas           5  2015     겨울\n",
            "elect       674  2015     겨울\n",
            "waterCool   176  2015     겨울\n",
            "           item  year season\n",
            "heat        435  2015     겨울\n",
            "waterHot    126  2015     겨울\n",
            "gas           5  2015     겨울\n",
            "elect       639  2015     겨울\n",
            "waterCool   174  2015     겨울\n",
            "           item  year season\n",
            "heat        329  2015      봄\n",
            "waterHot    123  2015      봄\n",
            "gas           4  2015      봄\n",
            "elect       532  2015      봄\n",
            "waterCool   173  2015      봄\n",
            "           item  year season\n",
            "heat        157  2015      봄\n",
            "waterHot    106  2015      봄\n",
            "gas           3  2015      봄\n",
            "elect       554  2015      봄\n",
            "waterCool   180  2015      봄\n",
            "           item  year season\n",
            "heat         51  2015      봄\n",
            "waterHot     88  2015      봄\n",
            "gas           2  2015      봄\n",
            "elect       506  2015      봄\n",
            "waterCool   184  2015      봄\n",
            "           item  year season\n",
            "heat         29  2015     여름\n",
            "waterHot     63  2015     여름\n",
            "gas           2  2015     여름\n",
            "elect       539  2015     여름\n",
            "waterCool   198  2015     여름\n",
            "           item  year season\n",
            "heat         25  2015     여름\n",
            "waterHot     50  2015     여름\n",
            "gas           2  2015     여름\n",
            "elect       565  2015     여름\n",
            "waterCool   200  2015     여름\n",
            "           item  year season\n",
            "heat         24  2015     여름\n",
            "waterHot     40  2015     여름\n",
            "gas           2  2015     여름\n",
            "elect       751  2015     여름\n",
            "waterCool   207  2015     여름\n",
            "           item  year season\n",
            "heat         28  2015     가을\n",
            "waterHot     52  2015     가을\n",
            "gas           2  2015     가을\n",
            "elect       531  2015     가을\n",
            "waterCool   200  2015     가을\n",
            "           item  year season\n",
            "heat         78  2015     가을\n",
            "waterHot     76  2015     가을\n",
            "gas           2  2015     가을\n",
            "elect       493  2015     가을\n",
            "waterCool   192  2015     가을\n",
            "           item  year season\n",
            "heat        236  2015     가을\n",
            "waterHot     94  2015     가을\n",
            "gas           2  2015     가을\n",
            "elect       560  2015     가을\n",
            "waterCool   187  2015     가을\n",
            "           item  year season\n",
            "heat        425  2015     겨울\n",
            "waterHot    118  2015     겨울\n",
            "gas           3  2015     겨울\n",
            "elect       596  2015     겨울\n",
            "waterCool   185  2015     겨울\n"
          ]
        }
      ]
    },
    {
      "cell_type": "code",
      "source": [
        "import pandas as pd\n",
        "import missingno as msno\n",
        "import matplotlib.pyplot as plt\n",
        "\n",
        "plt.rc('font', family='NanumBarunGothic')\n",
        "\n",
        "yearList = []\n",
        "useList = []\n",
        "\n",
        "for year in range(2015, 2018):\n",
        "    useSum = 0\n",
        "    yearUseSum = 0\n",
        "    for month in range(1,13) :\n",
        "        serchdDate = str(year) + str(month).zfill(2)\n",
        "        data = GetEnergyUseAmount(serchdDate)\n",
        "        df = pd.DataFrame(data['response']['body'])\n",
        "        useSum = df['item']['heat'] + df['item']['waterHot'] + df['item']['gas'] + df['item']['elect'] + df['item']['waterCool']\n",
        "        # print(str(serchdDate) + \" useSum = \" + str(useSum))\n",
        "        yearUseSum = yearUseSum + useSum\n",
        "    print(str(year) + \" yearUseSum = \" + str(yearUseSum))\n",
        "    yearList.append(year)\n",
        "    useList.append(yearUseSum)\n",
        "\n",
        "# 테이블로 만들기\n",
        "\n",
        "# useList['date'] = pd.to_datetime(useList['date'])\n",
        "# plt.figure(figsize=(12, 6))\n",
        "# plt.plot(useList['date'], useList['dcoilwtico'])\n",
        "# plt.title(\"연도별 에너지 사용 총금액 변화량 - 4875\")\n",
        "# plt.xlabel(\"연도\")\n",
        "# plt.ylabel(\"사용 총금액\")\n",
        "# plt.grid(True)\n",
        "# plt.show()\n"
      ],
      "metadata": {
        "colab": {
          "base_uri": "https://localhost:8080/"
        },
        "id": "G6D06yHRt6fO",
        "outputId": "e006d5ee-2036-41a8-c9d5-18051e2db4fd"
      },
      "execution_count": null,
      "outputs": [
        {
          "output_type": "stream",
          "name": "stdout",
          "text": [
            "2015 yearUseSum = 12647\n",
            "2016 yearUseSum = 12338\n",
            "2017 yearUseSum = 11614\n",
            "12647\n",
            "12338\n",
            "11614\n"
          ]
        }
      ]
    }
  ]
}